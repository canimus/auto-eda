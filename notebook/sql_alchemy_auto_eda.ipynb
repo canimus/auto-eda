{
 "cells": [
  {
   "cell_type": "code",
   "execution_count": 2,
   "metadata": {},
   "outputs": [],
   "source": [
    "from sqlalchemy import (MetaData, Table, Column, Integer, Numeric, String, ForeignKey, create_engine)\n",
    "from sqlalchemy import DateTime\n",
    "from datetime import datetime\n",
    "\n",
    "metadata = MetaData()"
   ]
  },
  {
   "cell_type": "code",
   "execution_count": 3,
   "metadata": {},
   "outputs": [],
   "source": [
    "summary = Table('summary', metadata,\n",
    "                Column('SERVER_NAME', String()),\n",
    "                Column('TABLE_CATALOG', String()),\n",
    "                Column('TABLE_SCHEMA', String()),\n",
    "                Column('TABLE_NAME', String()),\n",
    "                Column('COLUMN_NAME', String()),\n",
    "                Column('ORDINAL_POSITION', Integer()),\n",
    "                Column('DATA_TYPE', String()),\n",
    "                Column('processing_time', Numeric(4,2)),\n",
    "                Column('created_on', DateTime(), default=datetime.now), \n",
    "                Column('updated_on', DateTime(), default=datetime.now, onupdate=datetime.now))\n",
    "\n",
    "summary_v2 = Table('summary_v2', metadata,\n",
    "                   Column('SERVER_NAME', String()),\n",
    "                   Column('TABLE_CATALOG', String()),\n",
    "                   Column('TABLE_SCHEMA', String()),\n",
    "                   Column('TABLE_NAME', String()),\n",
    "                   Column('N_COLUMNS', Integer()),\n",
    "                   Column('N_ROWS', Integer()),\n",
    "                   Column('processing_time', Numeric(4,2)),\n",
    "                   Column('created_on', DateTime(), default=datetime.now),\n",
    "                   Column('updated_on', DateTime(), default=datetime.now, onupdate=datetime.now))\n",
    "\n",
    "summary_v3 = Table('summary_v3', metadata,\n",
    "                   Column('SERVER_NAME', String()),\n",
    "                   Column('TABLE_CATALOG', String()),\n",
    "                   Column('TABLE_SCHEMA', String()),\n",
    "                   Column('TABLE_NAME', String()),\n",
    "                   Column('COLUMN_NAME', String()),\n",
    "                   Column('ORDINAL_POSITION', Integer()),\n",
    "                   Column('DATA_TYPE', String()),\n",
    "                   Column('DISTINCT_VALUES', Integer()),\n",
    "                   Column('NULL_VALUES', Integer()),\n",
    "                   Column('processing_time', Numeric(4,2)),\n",
    "                   Column('created_on', DateTime(), default=datetime.now), \n",
    "                   Column('updated_on', DateTime(), default=datetime.now, onupdate=datetime.now))\n",
    "\n",
    "summary_v4 = Table('summary_v4', metadata,\n",
    "                   Column('SERVER_NAME', String()),\n",
    "                   Column('TABLE_CATALOG', String()),\n",
    "                   Column('TABLE_SCHEMA', String()),\n",
    "                   Column('TABLE_NAME', String()),\n",
    "                   Column('COLUMN_NAME', String()),\n",
    "                   Column('DATA_VALUE', String()),\n",
    "                   Column('FREQUENCY_NUMBER', Integer()),\n",
    "                   Column('FREQUENCY_PERCENTAGE', Numeric(12, 2)),\n",
    "                   Column('processing_time', Numeric(4,2)),\n",
    "                   Column('created_on', DateTime(), default=datetime.now), \n",
    "                   Column('updated_on', DateTime(), default=datetime.now, onupdate=datetime.now))\n",
    "\n",
    "summary_v5 = Table('summary_v5', metadata,\n",
    "                Column('SERVER_NAME', String()),\n",
    "                Column('TABLE_CATALOG', String()),\n",
    "                Column('TABLE_SCHEMA', String()),\n",
    "                Column('TABLE_NAME', String()),\n",
    "                Column('COLUMN_NAME', String()),\n",
    "                Column('DATA_VALUE', String()),\n",
    "                Column('FREQUENCY_NUMBER', Integer()),\n",
    "                Column('FREQUENCY_PERCENTAGE', Numeric(12, 2)),\n",
    "                Column('processing_time', Numeric(4,2)),\n",
    "                Column('created_on', DateTime(), default=datetime.now), \n",
    "                Column('updated_on', DateTime(), default=datetime.now, onupdate=datetime.now))\n",
    "\n",
    "summary_v6 = Table('summary_v6', metadata,\n",
    "                   Column('SERVER_NAME', String()),\n",
    "                   Column('TABLE_CATALOG', String()),\n",
    "                   Column('TABLE_SCHEMA', String()),\n",
    "                   Column('TABLE_NAME', String()),\n",
    "                   Column('COLUMN_NAME', String()),\n",
    "                   Column('DATA_VALUE', String()),\n",
    "                   Column('AVG', Numeric(12, 2)),\n",
    "                   Column('STDEV', Numeric(12, 2)),\n",
    "                   Column('VAR', Numeric(12, 2)),\n",
    "                   Column('SUM', Numeric(12, 2)),\n",
    "                   Column('MAX', Numeric(12, 2)),\n",
    "                   Column('MIN', Numeric(12, 2)),\n",
    "                   Column('RANGE', Numeric(12, 2)),\n",
    "                   Column('P01', Numeric(12, 2)),\n",
    "                   Column('P025', Numeric(12, 2)),\n",
    "                   Column('P05', Numeric(12, 2)),\n",
    "                   Column('P10', Numeric(12, 2)),\n",
    "                   Column('Q1', Numeric(12, 2)),\n",
    "                   Column('Q2', Numeric(12, 2)),\n",
    "                   Column('Q3', Numeric(12, 2)),\n",
    "                   Column('P90', Numeric(12, 2)),\n",
    "                   Column('P95', Numeric(12, 2)),\n",
    "                   Column('P975', Numeric(12, 2)),\n",
    "                   Column('P99', Numeric(12, 2)),\n",
    "                   Column('IQR', Numeric(12, 2)),\n",
    "                   Column('processing_time', Numeric(4,2)),\n",
    "                   Column('created_on', DateTime(), default=datetime.now), \n",
    "                   Column('updated_on', DateTime(), default=datetime.now, onupdate=datetime.now))"
   ]
  },
  {
   "cell_type": "code",
   "execution_count": 4,
   "metadata": {},
   "outputs": [],
   "source": [
    "engine = create_engine('sqlite:///:memory:')\n",
    "metadata.create_all(engine)"
   ]
  },
  {
   "cell_type": "code",
   "execution_count": 5,
   "metadata": {},
   "outputs": [],
   "source": [
    "ins = summary.insert().values(SERVER_NAME='azure',\n",
    "                             TABLE_CATALOG='def',\n",
    "                             TABLE_SCHEMA='world',\n",
    "                             TABLE_NAME='city')"
   ]
  },
  {
   "cell_type": "code",
   "execution_count": 6,
   "metadata": {},
   "outputs": [
    {
     "name": "stdout",
     "output_type": "stream",
     "text": [
      "INSERT INTO summary (\"SERVER_NAME\", \"TABLE_CATALOG\", \"TABLE_SCHEMA\", \"TABLE_NAME\", created_on, updated_on) VALUES (:SERVER_NAME, :TABLE_CATALOG, :TABLE_SCHEMA, :TABLE_NAME, :created_on, :updated_on)\n"
     ]
    }
   ],
   "source": [
    "print(str(ins))"
   ]
  },
  {
   "cell_type": "code",
   "execution_count": 7,
   "metadata": {},
   "outputs": [
    {
     "data": {
      "text/plain": [
       "{'SERVER_NAME': 'azure',\n",
       " 'TABLE_CATALOG': 'def',\n",
       " 'TABLE_SCHEMA': 'world',\n",
       " 'TABLE_NAME': 'city',\n",
       " 'created_on': None,\n",
       " 'updated_on': None}"
      ]
     },
     "execution_count": 7,
     "metadata": {},
     "output_type": "execute_result"
    }
   ],
   "source": [
    "ins.compile().params"
   ]
  },
  {
   "cell_type": "code",
   "execution_count": null,
   "metadata": {},
   "outputs": [],
   "source": [
    "result = "
   ]
  }
 ],
 "metadata": {
  "kernelspec": {
   "display_name": "Python 3",
   "language": "python",
   "name": "python3"
  },
  "language_info": {
   "codemirror_mode": {
    "name": "ipython",
    "version": 3
   },
   "file_extension": ".py",
   "mimetype": "text/x-python",
   "name": "python",
   "nbconvert_exporter": "python",
   "pygments_lexer": "ipython3",
   "version": "3.6.5"
  }
 },
 "nbformat": 4,
 "nbformat_minor": 2
}
